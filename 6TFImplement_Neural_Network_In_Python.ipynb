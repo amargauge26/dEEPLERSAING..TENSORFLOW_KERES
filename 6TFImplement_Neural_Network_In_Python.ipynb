{
  "nbformat": 4,
  "nbformat_minor": 0,
  "metadata": {
    "colab": {
      "provenance": [],
      "authorship_tag": "ABX9TyONcIWSE9ah0ThbS2DXciPa",
      "include_colab_link": true
    },
    "kernelspec": {
      "name": "python3",
      "display_name": "Python 3"
    },
    "language_info": {
      "name": "python"
    }
  },
  "cells": [
    {
      "cell_type": "markdown",
      "metadata": {
        "id": "view-in-github",
        "colab_type": "text"
      },
      "source": [
        "<a href=\"https://colab.research.google.com/github/amargauge26/dEEPLERSAING..TENSORFLOW_KERES/blob/main/TF6Implement_Neural_Network_In_Python.ipynb\" target=\"_parent\"><img src=\"https://colab.research.google.com/assets/colab-badge.svg\" alt=\"Open In Colab\"/></a>"
      ]
    },
    {
      "cell_type": "code",
      "execution_count": null,
      "metadata": {
        "id": "uBPPzXMbB1SE"
      },
      "outputs": [],
      "source": [
        "class myNN:\n",
        "    def __init__(self):\n",
        "        self.w1 = 1\n",
        "        self.w2 = 1\n",
        "        self.bias = 0\n",
        "\n",
        "    def fit(self, X, y, epochs, loss_thresold):\n",
        "        self.w1, self.w2, self.bias = self.gradient_descent(X['age'],X['affordibility'],y, epochs, loss_thresold)\n",
        "        print(f\"Final weights and bias: w1: {self.w1}, w2: {self.w2}, bias: {self.bias}\")\n",
        "\n",
        "    def predict(self, X_test):\n",
        "        weighted_sum = self.w1*X_test['age'] + self.w2*X_test['affordibility'] + self.bias\n",
        "        return sigmoid_numpy(weighted_sum)\n",
        "\n",
        "    def gradient_descent(self, age,affordability, y_true, epochs, loss_thresold):\n",
        "        w1 = w2 = 1\n",
        "        bias = 0\n",
        "        rate = 0.5\n",
        "        n = len(age)\n",
        "        for i in range(epochs):\n",
        "            weighted_sum = w1 * age + w2 * affordability + bias\n",
        "            y_predicted = sigmoid_numpy(weighted_sum)\n",
        "            loss = log_loss(y_true, y_predicted)\n",
        "\n",
        "            w1d = (1/n)*np.dot(np.transpose(age),(y_predicted-y_true))\n",
        "            w2d = (1/n)*np.dot(np.transpose(affordability),(y_predicted-y_true))\n",
        "\n",
        "            bias_d = np.mean(y_predicted-y_true)\n",
        "            w1 = w1 - rate * w1d\n",
        "            w2 = w2 - rate * w2d\n",
        "            bias = bias - rate * bias_d\n",
        "\n",
        "            if i%50==0:\n",
        "                print (f'Epoch:{i}, w1:{w1}, w2:{w2}, bias:{bias}, loss:{loss}')\n",
        "\n",
        "            if loss<=loss_thresold:\n",
        "                print (f'Epoch:{i}, w1:{w1}, w2:{w2}, bias:{bias}, loss:{loss}')\n",
        "                break\n",
        "\n",
        "        return w1, w2, bias"
      ]
    },
    {
      "cell_type": "code",
      "source": [
        "customModel = myNN()\n",
        "customModel.fit(X_train_scaled, y_train, epochs=8000, loss_thresold=0.4631)"
      ],
      "metadata": {
        "id": "ghsIbMSmDkoj"
      },
      "execution_count": null,
      "outputs": []
    }
  ]
}
